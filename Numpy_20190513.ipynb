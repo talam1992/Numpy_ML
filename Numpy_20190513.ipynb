{
 "cells": [
  {
   "cell_type": "code",
   "execution_count": 1,
   "metadata": {},
   "outputs": [],
   "source": [
    "from numpy import *"
   ]
  },
  {
   "cell_type": "code",
   "execution_count": 2,
   "metadata": {},
   "outputs": [
    {
     "data": {
      "text/plain": [
       "array([[0.8138487 , 0.26119585, 0.7404305 , 0.57179398],\n",
       "       [0.38056378, 0.09832394, 0.95767212, 0.90101067],\n",
       "       [0.70623705, 0.74428114, 0.32072036, 0.43429355],\n",
       "       [0.33135283, 0.64570553, 0.1238874 , 0.7232967 ]])"
      ]
     },
     "execution_count": 2,
     "metadata": {},
     "output_type": "execute_result"
    }
   ],
   "source": [
    "random.rand(4,4)"
   ]
  },
  {
   "cell_type": "code",
   "execution_count": 3,
   "metadata": {},
   "outputs": [],
   "source": [
    "randMat = mat(random.rand(4,4))"
   ]
  },
  {
   "cell_type": "code",
   "execution_count": 4,
   "metadata": {},
   "outputs": [
    {
     "data": {
      "text/plain": [
       "matrix([[ 2.48965752, -2.75922595,  1.1411914 ,  4.02693165],\n",
       "        [-1.23638007,  1.51208307,  0.80041552, -2.79258577],\n",
       "        [-3.69632866,  2.53177358, -0.84199375, -2.05083377],\n",
       "        [ 2.73765075, -0.54523964, -0.87193517,  1.17858952]])"
      ]
     },
     "execution_count": 4,
     "metadata": {},
     "output_type": "execute_result"
    }
   ],
   "source": [
    "randMat.I"
   ]
  },
  {
   "cell_type": "code",
   "execution_count": 5,
   "metadata": {},
   "outputs": [],
   "source": [
    "invRandMat = randMat.I"
   ]
  },
  {
   "cell_type": "code",
   "execution_count": 6,
   "metadata": {},
   "outputs": [
    {
     "data": {
      "text/plain": [
       "matrix([[ 1.00000000e+00,  5.55111512e-17,  5.55111512e-17,\n",
       "         -2.22044605e-16],\n",
       "        [ 0.00000000e+00,  1.00000000e+00,  0.00000000e+00,\n",
       "         -2.22044605e-16],\n",
       "        [-2.22044605e-16,  4.51028104e-16,  1.00000000e+00,\n",
       "         -5.55111512e-16],\n",
       "        [-3.33066907e-16,  3.60822483e-16,  5.55111512e-17,\n",
       "          1.00000000e+00]])"
      ]
     },
     "execution_count": 6,
     "metadata": {},
     "output_type": "execute_result"
    }
   ],
   "source": [
    "randMat*invRandMat"
   ]
  },
  {
   "cell_type": "code",
   "execution_count": null,
   "metadata": {},
   "outputs": [],
   "source": []
  }
 ],
 "metadata": {
  "kernelspec": {
   "display_name": "Python 2",
   "language": "python",
   "name": "python2"
  },
  "language_info": {
   "codemirror_mode": {
    "name": "ipython",
    "version": 2
   },
   "file_extension": ".py",
   "mimetype": "text/x-python",
   "name": "python",
   "nbconvert_exporter": "python",
   "pygments_lexer": "ipython2",
   "version": "2.7.15"
  }
 },
 "nbformat": 4,
 "nbformat_minor": 2
}
